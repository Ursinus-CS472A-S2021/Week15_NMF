{
 "cells": [
  {
   "cell_type": "markdown",
   "id": "second-editing",
   "metadata": {},
   "source": [
    "# Nonnegative Matrix Factorization\n",
    "## Kullback-Liebler Divergence Version"
   ]
  },
  {
   "cell_type": "code",
   "execution_count": null,
   "id": "personalized-stuff",
   "metadata": {},
   "outputs": [],
   "source": [
    "%load_ext autoreload\n",
    "%autoreload 2\n",
    "import librosa\n",
    "import numpy as np\n",
    "import matplotlib.pyplot as plt\n",
    "import IPython.display as ipd\n",
    "import pandas as pd\n",
    "from scipy import signal\n",
    "from spectrogramtools import *\n",
    "from collections import OrderedDict\n",
    "import warnings\n",
    "warnings.filterwarnings(\"ignore\")\n",
    "\n",
    "def make_html_audio(ys, sr, width=100):\n",
    "    clips = []\n",
    "    for y in ys:\n",
    "        audio = ipd.Audio(y, rate=sr)\n",
    "        audio_html = audio._repr_html_().replace('\\n', '').strip()\n",
    "        audio_html = audio_html.replace('<audio ', '<audio style=\"width: {}px; \"'.format(width))\n",
    "        clips.append(audio_html)\n",
    "    return clips\n"
   ]
  },
  {
   "cell_type": "code",
   "execution_count": null,
   "id": "aging-crowd",
   "metadata": {},
   "outputs": [],
   "source": [
    "y, sr = librosa.load(\"doves.wav\", sr=22050)\n",
    "win_length = 2048*4\n",
    "hop_length = 512\n",
    "\n",
    "S = STFT(y, win_length, hop_length)\n",
    "V = np.abs(S)"
   ]
  },
  {
   "cell_type": "markdown",
   "id": "driving-moment",
   "metadata": {},
   "source": [
    "# Kullback-Liebler Divergence Version\n",
    "\n",
    "We seek a $W$ and an $H$ so that we minimize \n",
    "\n",
    "### $\\sum_{i, j} V[i, j] \\left( \\log \\frac{V[i, j]}{WH[i, j]} \\right) - V[i, j] + WH[i, j]$\n",
    "\n",
    "\n",
    "Update Rules:\n",
    "\n",
    "### Let $V_L[i, j] = V[i, j] / (WH)[i, j]$\n",
    "\n",
    "### $ H[i, j] = H[i, j] \\left( \\frac{  (W^T V_L)[i, j] }{{\\sum_a}W[a, j]} \\right) $\n",
    "\n",
    "\n",
    "### $ W[i, j] = W[i, j] \\left( \\frac{  (V_L H^T)[i, j] }{{\\sum_b}H[i, b]} \\right) $\n"
   ]
  },
  {
   "cell_type": "code",
   "execution_count": null,
   "id": "informative-program",
   "metadata": {},
   "outputs": [],
   "source": [
    "M = S.shape[0]\n",
    "N = S.shape[1]\n",
    "K = 3\n",
    "W = np.random.rand(M, K)\n",
    "H = np.random.rand(K, N)\n",
    "n_iters = 100\n",
    "\n",
    "## TODO: Apply multiplicative update rules n_iters times in a loop\n"
   ]
  },
  {
   "cell_type": "code",
   "execution_count": null,
   "id": "known-duncan",
   "metadata": {},
   "outputs": [],
   "source": [
    "ws = []\n",
    "ys = []\n",
    "WH = W.dot(H)\n",
    "K = H.shape[0]\n",
    "for i in range(K):\n",
    "    Hi = np.zeros_like(H)\n",
    "    Hi[i, :] = H[i, :]\n",
    "    WHi = np.dot(W, Hi)\n",
    "    Wi = W[:, i]\n",
    "    Wi = np.reshape(Wi, (Wi.size, 1))\n",
    "    Wi = Wi*np.ones((1, int(win_length/hop_length)))\n",
    "    wi = griffinLimInverse(Wi, win_length, hop_length)\n",
    "    ws.append(wi)\n",
    "    Si = S*WHi/WH\n",
    "    yi = iSTFT(Si, win_length, hop_length)\n",
    "    ys.append(yi)\n",
    "ys = make_html_audio(ys, sr, width=200)\n",
    "ws = make_html_audio(ws, sr, width=100)\n",
    "pd.set_option('display.max_colwidth', None) \n",
    "df = pd.DataFrame(OrderedDict([(\"Components\", ws), (\"Filtered\", ys)]))\n",
    "ipd.HTML(df.to_html(escape=False, float_format='%.2f'))"
   ]
  },
  {
   "cell_type": "code",
   "execution_count": null,
   "id": "southern-comfort",
   "metadata": {},
   "outputs": [],
   "source": [
    "y = griffinLimInverse(WH, win_length, hop_length)\n",
    "ipd.Audio(y, rate=sr)"
   ]
  },
  {
   "cell_type": "code",
   "execution_count": null,
   "id": "anonymous-savings",
   "metadata": {},
   "outputs": [],
   "source": []
  }
 ],
 "metadata": {
  "kernelspec": {
   "display_name": "Python 3",
   "language": "python",
   "name": "python3"
  },
  "language_info": {
   "codemirror_mode": {
    "name": "ipython",
    "version": 3
   },
   "file_extension": ".py",
   "mimetype": "text/x-python",
   "name": "python",
   "nbconvert_exporter": "python",
   "pygments_lexer": "ipython3",
   "version": "3.7.6"
  }
 },
 "nbformat": 4,
 "nbformat_minor": 5
}
